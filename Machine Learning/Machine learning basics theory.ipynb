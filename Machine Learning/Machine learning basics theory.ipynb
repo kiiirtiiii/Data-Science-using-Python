{
 "cells": [
  {
   "cell_type": "markdown",
   "metadata": {},
   "source": [
    "# Machine Learning\n",
    "\n",
    "### 1. Supervised - a) Regression b) Classification\n",
    "### 2. Unsupervised  - a) Clustering b) Association analysis\n",
    "### 3. Reinforcement - a) Continous b) Categorical"
   ]
  },
  {
   "cell_type": "markdown",
   "metadata": {},
   "source": [
    "### ++ Supervised learning :-\n",
    "\n",
    "#### Comes under Supervision.\n",
    "#### We provide labelled data as a input and we define that we need this as a output.\n",
    "Eg : 2 images, one of orange and second of apple and we train the machine for orange and then it will identify the orange.\n",
    "\n",
    "### Regression : When you have infinite number of continuous variables like sales, year, etc that comes under Regression and on the basis of that we predict something.\n",
    "Eg : Sales can be : 1000, 1001, 1002, 1005\n",
    "\n",
    "### Classification : Same as Regression but the variable is catagorical variable, that means we have a definite value.\n",
    "Eg : Mail is a spam or not Spam"
   ]
  },
  {
   "cell_type": "markdown",
   "metadata": {},
   "source": [
    "### ++ Unsupervised learning :-\n",
    "\n",
    "#### Same but without label\n",
    "\n",
    "### Clustering : We keep our items into groups and those items have more similaities with the group as compared to other groups.\n",
    "Eg: We have costumer data and want to divide them on the basis of some data or cluster.\n",
    "\n",
    "### Association analysis : We discover pattern in the data set and then we decide okay this data is associated with this item.\n",
    "Eg: We've associate bread with jam or butter."
   ]
  },
  {
   "cell_type": "markdown",
   "metadata": {},
   "source": [
    "### ++ Reinforcement :-\n",
    "\n",
    "#### Based on experience.\n",
    "Eg : You're on iceland and you don't know what to do, so you on the basis of your experience you'll do somtimrs right things and sometimes wrong things."
   ]
  }
 ],
 "metadata": {
  "kernelspec": {
   "display_name": "Python 3",
   "language": "python",
   "name": "python3"
  },
  "language_info": {
   "codemirror_mode": {
    "name": "ipython",
    "version": 3
   },
   "file_extension": ".py",
   "mimetype": "text/x-python",
   "name": "python",
   "nbconvert_exporter": "python",
   "pygments_lexer": "ipython3",
   "version": "3.7.3"
  }
 },
 "nbformat": 4,
 "nbformat_minor": 2
}
