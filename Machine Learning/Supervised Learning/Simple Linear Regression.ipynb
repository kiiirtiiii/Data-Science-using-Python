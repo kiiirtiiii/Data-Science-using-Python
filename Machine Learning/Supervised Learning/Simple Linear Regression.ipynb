{
 "cells": [
  {
   "cell_type": "markdown",
   "metadata": {},
   "source": [
    "Regression is useful for finding relationship between two continuous variables. One is predictor or independent variable and other is response or dependent variable. It looks for a relationship between variables."
   ]
  },
  {
   "cell_type": "markdown",
   "metadata": {},
   "source": [
    "# Simple Linear Regression\n",
    "\n",
    "#### When we have only one independent variable, we call it a Simple Linear Regression.\n",
    "\n",
    "#### Equation : Y(pred) = b0 + b1*X\n",
    "X : independent variable\n",
    "Y : dependent variable\n",
    "b0 : Y-axis intercept\n",
    "b1 : Slope\n",
    "\n",
    "#### Error = SUBMISSION { (actual_output - predicted_output)**2 }"
   ]
  },
  {
   "cell_type": "code",
   "execution_count": 1,
   "metadata": {},
   "outputs": [],
   "source": [
    "# Step1 : Import libraries\n",
    "import pandas as pd\n",
    "\n",
    "# Step2 : Load the dataset\n",
    "df = pd.read_csv('SLR.csv')\n",
    "\n",
    "# Step3 : Split data\n",
    "X = df.iloc[:, :-1].values      # Independent variable\n",
    "y = df.iloc[:, -1].values       # Dependent variable"
   ]
  },
  {
   "cell_type": "code",
   "execution_count": 2,
   "metadata": {},
   "outputs": [],
   "source": [
    "# Step4 : Split data in training and test\n",
    "\n",
    "from sklearn.model_selection import train_test_split\n",
    "X_train, X_test, y_train, y_test = train_test_split(X, y, test_size = 0.2, random_state = 0)"
   ]
  },
  {
   "cell_type": "code",
   "execution_count": 3,
   "metadata": {},
   "outputs": [
    {
     "data": {
      "text/plain": [
       "LinearRegression(copy_X=True, fit_intercept=True, n_jobs=None, normalize=False)"
      ]
     },
     "execution_count": 3,
     "metadata": {},
     "output_type": "execute_result"
    }
   ],
   "source": [
    "# Step5 : Fitting regression model\n",
    "\n",
    "from sklearn.linear_model import LinearRegression\n",
    "reg = LinearRegression()\n",
    "reg.fit(X_train,y_train)"
   ]
  },
  {
   "cell_type": "code",
   "execution_count": 4,
   "metadata": {},
   "outputs": [
    {
     "name": "stdout",
     "output_type": "stream",
     "text": [
      "[ 333394.41420079  461481.52976908 3001438.2159297   482340.10709323\n",
      " 2885969.25207601 1653974.12078968 1653974.12078968  900902.22539781\n",
      "  333394.41420079  482340.10709323 3001438.2159297  3001438.2159297\n",
      " 1118809.98011009 2885969.25207601  766068.26136171 1653974.12078968\n",
      "  799596.49306053  589620.14799743 2885969.25207601  589620.14799743]\n",
      "[  50363.34  418936.05 1158502.59  380512.96 4647149.58 3458252.\n",
      " 3039414.4  1780539.2    71253.21   97040.64 2251232.97 1316095.41\n",
      " 2198981.92 5997054.98 1245112.92 3786589.2   339490.5   414371.1\n",
      " 5513227.5   496101.1 ]\n"
     ]
    }
   ],
   "source": [
    "# Step6 : Predict Values\n",
    "\n",
    "y_pred = reg.predict(X_test)\n",
    "\n",
    "# Let's compare between predicted and actual values\n",
    "print(y_pred)\n",
    "print(y_test)"
   ]
  },
  {
   "cell_type": "code",
   "execution_count": 5,
   "metadata": {},
   "outputs": [
    {
     "data": {
      "text/plain": [
       "[<matplotlib.lines.Line2D at 0xd84a630>]"
      ]
     },
     "execution_count": 5,
     "metadata": {},
     "output_type": "execute_result"
    },
    {
     "data": {
      "image/png": "[encoded data removed]",
      "text/plain": [
       "<Figure size 432x288 with 1 Axes>"
      ]
     },
     "metadata": {
      "needs_background": "light"
     },
     "output_type": "display_data"
    }
   ],
   "source": [
    "# Step7 : Visualize\n",
    "\n",
    "import matplotlib.pyplot as plt\n",
    "%matplotlib inline\n",
    "\n",
    "plt.scatter(X_train, y_train, color = 'red')   # Scatter dots\n",
    "plt.plot(X_train, reg.predict(X_train))        # Line"
   ]
  },
  {
   "cell_type": "code",
   "execution_count": 6,
   "metadata": {},
   "outputs": [
    {
     "data": {
      "text/plain": [
       "[<matplotlib.lines.Line2D at 0xe12c8f0>]"
      ]
     },
     "execution_count": 6,
     "metadata": {},
     "output_type": "execute_result"
    },
    {
     "data": {
      "image/png": "[encoded data removed]",
      "text/plain": [
       "<Figure size 432x288 with 1 Axes>"
      ]
     },
     "metadata": {
      "needs_background": "light"
     },
     "output_type": "display_data"
    }
   ],
   "source": [
    "plt.scatter(X_test, y_test, color = 'red')     # Scatter dots\n",
    "plt.plot(X_train, reg.predict(X_train))        # Line"
   ]
  }
 ],
 "metadata": {
  "kernelspec": {
   "display_name": "Python 3",
   "language": "python",
   "name": "python3"
  },
  "language_info": {
   "codemirror_mode": {
    "name": "ipython",
    "version": 3
   },
   "file_extension": ".py",
   "mimetype": "text/x-python",
   "name": "python",
   "nbconvert_exporter": "python",
   "pygments_lexer": "ipython3",
   "version": "3.7.3"
  }
 },
 "nbformat": 4,
 "nbformat_minor": 2
}
