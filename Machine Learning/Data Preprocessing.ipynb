{
 "cells": [
  {
   "cell_type": "markdown",
   "metadata": {},
   "source": [
    "# Data Preprocessing\n",
    "\n",
    "It is the process of preparing the data for analysis and is the first step of every ML model.\n",
    "\n",
    "1. Dealing with missing data.\n",
    "2. Dealing with catagorical data.\n",
    "3. Splitting the dataset into training and testing sets.\n",
    "4. Rescaling data.\n"
   ]
  },
  {
   "cell_type": "markdown",
   "metadata": {},
   "source": [
    "### Dealing with missing data"
   ]
  },
  {
   "cell_type": "code",
   "execution_count": 1,
   "metadata": {},
   "outputs": [
    {
     "name": "stderr",
     "output_type": "stream",
     "text": [
      "C:\\Users\\yugal\\Anaconda3\\lib\\site-packages\\sklearn\\utils\\deprecation.py:66: DeprecationWarning: Class Imputer is deprecated; Imputer was deprecated in version 0.20 and will be removed in 0.22. Import impute.SimpleImputer from sklearn instead.\n",
      "  warnings.warn(msg, category=DeprecationWarning)\n"
     ]
    },
    {
     "data": {
      "text/plain": [
       "array([['Direct', 54.0, 25000.0],\n",
       "       ['Email', 38.0, 47995.0],\n",
       "       ['Tele', 37.0, 54014.0],\n",
       "       ['Email', 52.0, 61014.0],\n",
       "       ['Tele', 35.0, 59673.166666666664],\n",
       "       ['Direct', 47.166666666666664, 58011.0],\n",
       "       ['Email', 35.0, 52001.0],\n",
       "       ['Direct', 45.0, 79013.0],\n",
       "       ['Tele', 65.0, 83011.0],\n",
       "       ['Direct', 48.0, 67007.0],\n",
       "       ['Tele', 48.0, 59673.166666666664],\n",
       "       ['Direct', 46.0, 57995.0],\n",
       "       ['Email', 47.166666666666664, 52014.0],\n",
       "       ['Direct', 63.0, 79003.0]], dtype=object)"
      ]
     },
     "execution_count": 1,
     "metadata": {},
     "output_type": "execute_result"
    }
   ],
   "source": [
    "import pandas as pd\n",
    "import numpy as np\n",
    "\n",
    "# Load dataset\n",
    "df = pd.read_csv(\"Data.csv\")\n",
    "df.head()\n",
    "\n",
    "# I want to predict on the basis of data that user will subscribe or not then, Subscribe is my dependent variable\n",
    "# So we will split dependent and independent variables.\n",
    "\n",
    "X = df.iloc[:, :-1].values\n",
    "y = df.iloc[:, -1].values\n",
    "\n",
    "# Handling missing values using Scikit learn library\n",
    "from sklearn.preprocessing import Imputer\n",
    "\n",
    "# Imputer - Handeling missing values\n",
    "\n",
    "imputer = Imputer(missing_values = 'NaN', strategy = 'mean', axis = 0)   # Replace Nan with mean values\n",
    "imputer = imputer.fit(X[:, 1:3])\n",
    "X[:, 1:3] = imputer.transform(X[:, 1:3])\n",
    "\n",
    "X"
   ]
  },
  {
   "cell_type": "markdown",
   "metadata": {},
   "source": [
    "### Handling Catagorical features\n",
    "### Categorical variables - Subscribe & Acquisition_Mode (Non-numerical data)"
   ]
  },
  {
   "cell_type": "code",
   "execution_count": 2,
   "metadata": {},
   "outputs": [
    {
     "name": "stderr",
     "output_type": "stream",
     "text": [
      "C:\\Users\\yugal\\Anaconda3\\lib\\site-packages\\sklearn\\preprocessing\\_encoders.py:414: FutureWarning: The handling of integer data will change in version 0.22. Currently, the categories are determined based on the range [0, max(values)], while in the future they will be determined based on the unique values.\n",
      "If you want the future behaviour and silence this warning, you can specify \"categories='auto'\".\n",
      "In case you used a LabelEncoder before this OneHotEncoder to convert the categories to integers, then you can now use the OneHotEncoder directly.\n",
      "  warnings.warn(msg, FutureWarning)\n",
      "C:\\Users\\yugal\\Anaconda3\\lib\\site-packages\\sklearn\\preprocessing\\_encoders.py:450: DeprecationWarning: The 'categorical_features' keyword is deprecated in version 0.20 and will be removed in 0.22. You can use the ColumnTransformer instead.\n",
      "  \"use the ColumnTransformer instead.\", DeprecationWarning)\n"
     ]
    },
    {
     "data": {
      "text/plain": [
       "array([0, 1, 1, 0, 1, 1, 0, 1, 0, 1, 1, 1, 0, 1])"
      ]
     },
     "execution_count": 2,
     "metadata": {},
     "output_type": "execute_result"
    }
   ],
   "source": [
    "from sklearn.preprocessing import LabelEncoder, OneHotEncoder\n",
    "\n",
    "# On independent variable\n",
    "\n",
    "labelencoder_X = LabelEncoder()\n",
    "X[:, 0] = labelencoder_X.fit_transform(X[:, 0])\n",
    "\n",
    "onehotencoder_X = OneHotEncoder(categorical_features = [0])\n",
    "X = onehotencoder_X.fit_transform(X).toarray()\n",
    "\n",
    "# On dependent variable\n",
    "\n",
    "labelencoder_y = LabelEncoder()\n",
    "y = labelencoder_y.fit_transform(y)\n",
    "y"
   ]
  },
  {
   "cell_type": "markdown",
   "metadata": {},
   "source": [
    "### Splitting data into training and test\n",
    "\n",
    "### train : 80%  (0.8)\n",
    "### test : 20%   (0.2)"
   ]
  },
  {
   "cell_type": "code",
   "execution_count": 3,
   "metadata": {},
   "outputs": [],
   "source": [
    "from sklearn.model_selection import train_test_split\n",
    "X_train, X_test, y_train, y_test = train_test_split(X,y, test_size = 0.2, random_state = 0)"
   ]
  },
  {
   "cell_type": "code",
   "execution_count": 4,
   "metadata": {},
   "outputs": [
    {
     "data": {
      "text/html": [
       "<div>\n",
       "<style scoped>\n",
       "    .dataframe tbody tr th:only-of-type {\n",
       "        vertical-align: middle;\n",
       "    }\n",
       "\n",
       "    .dataframe tbody tr th {\n",
       "        vertical-align: top;\n",
       "    }\n",
       "\n",
       "    .dataframe thead th {\n",
       "        text-align: right;\n",
       "    }\n",
       "</style>\n",
       "<table border=\"1\" class=\"dataframe\">\n",
       "  <thead>\n",
       "    <tr style=\"text-align: right;\">\n",
       "      <th></th>\n",
       "      <th>Acquisition_Mode</th>\n",
       "      <th>Age</th>\n",
       "      <th>Income</th>\n",
       "      <th>Subscribe</th>\n",
       "    </tr>\n",
       "  </thead>\n",
       "  <tbody>\n",
       "    <tr>\n",
       "      <th>0</th>\n",
       "      <td>Direct</td>\n",
       "      <td>54.0</td>\n",
       "      <td>25000.0</td>\n",
       "      <td>No</td>\n",
       "    </tr>\n",
       "    <tr>\n",
       "      <th>1</th>\n",
       "      <td>Email</td>\n",
       "      <td>38.0</td>\n",
       "      <td>47995.0</td>\n",
       "      <td>Yes</td>\n",
       "    </tr>\n",
       "    <tr>\n",
       "      <th>2</th>\n",
       "      <td>Tele</td>\n",
       "      <td>37.0</td>\n",
       "      <td>54014.0</td>\n",
       "      <td>Yes</td>\n",
       "    </tr>\n",
       "    <tr>\n",
       "      <th>3</th>\n",
       "      <td>Email</td>\n",
       "      <td>52.0</td>\n",
       "      <td>61014.0</td>\n",
       "      <td>No</td>\n",
       "    </tr>\n",
       "    <tr>\n",
       "      <th>4</th>\n",
       "      <td>Tele</td>\n",
       "      <td>35.0</td>\n",
       "      <td>NaN</td>\n",
       "      <td>Yes</td>\n",
       "    </tr>\n",
       "  </tbody>\n",
       "</table>\n",
       "</div>"
      ],
      "text/plain": [
       "  Acquisition_Mode   Age   Income Subscribe\n",
       "0           Direct  54.0  25000.0        No\n",
       "1            Email  38.0  47995.0       Yes\n",
       "2             Tele  37.0  54014.0       Yes\n",
       "3            Email  52.0  61014.0        No\n",
       "4             Tele  35.0      NaN       Yes"
      ]
     },
     "execution_count": 4,
     "metadata": {},
     "output_type": "execute_result"
    }
   ],
   "source": [
    "df.head()"
   ]
  },
  {
   "cell_type": "markdown",
   "metadata": {},
   "source": [
    "### Feature Scalling\n",
    "### Standardise range if there's huge differance between independent variables in terms of range"
   ]
  },
  {
   "cell_type": "code",
   "execution_count": 5,
   "metadata": {},
   "outputs": [
    {
     "data": {
      "text/plain": [
       "array([[ 0.91287093, -0.61237244, -0.47140452, -0.25768236, -0.01789735],\n",
       "       [-1.09544512, -0.61237244,  2.12132034, -1.57719374, -0.29838984],\n",
       "       [ 0.91287093, -0.61237244, -0.47140452,  2.23472803,  1.46228007],\n",
       "       [ 0.91287093, -0.61237244, -0.47140452,  0.03554239,  0.61706833],\n",
       "       [-1.09544512,  1.63299316, -0.47140452, -1.43058136, -0.72247533],\n",
       "       [ 0.91287093, -0.61237244, -0.47140452, -0.40429473,  1.46298465],\n",
       "       [-1.09544512, -0.61237244,  2.12132034,  0.03554239,  0.10034258],\n",
       "       [-1.09544512,  1.63299316, -0.47140452,  0.6219919 ,  0.19481474],\n",
       "       [ 0.91287093, -0.61237244, -0.47140452,  0.91521665, -2.34265239],\n",
       "       [ 0.91287093, -0.61237244, -0.47140452, -0.08663459, -0.01677002],\n",
       "       [-1.09544512,  1.63299316, -0.47140452, -0.08663459, -0.43930544]])"
      ]
     },
     "execution_count": 5,
     "metadata": {},
     "output_type": "execute_result"
    }
   ],
   "source": [
    "from sklearn.preprocessing import StandardScaler\n",
    "SS_X = StandardScaler()\n",
    "X_train = SS_X.fit_transform(X_train) # Scalling only done on the independent variable\n",
    "X_test = SS_X.fit_transform(X_test)\n",
    "X_train"
   ]
  },
  {
   "cell_type": "code",
   "execution_count": null,
   "metadata": {},
   "outputs": [],
   "source": []
  }
 ],
 "metadata": {
  "kernelspec": {
   "display_name": "Python 3",
   "language": "python",
   "name": "python3"
  },
  "language_info": {
   "codemirror_mode": {
    "name": "ipython",
    "version": 3
   },
   "file_extension": ".py",
   "mimetype": "text/x-python",
   "name": "python",
   "nbconvert_exporter": "python",
   "pygments_lexer": "ipython3",
   "version": "3.7.3"
  }
 },
 "nbformat": 4,
 "nbformat_minor": 2
}
