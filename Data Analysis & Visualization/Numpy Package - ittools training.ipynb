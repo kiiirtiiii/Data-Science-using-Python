{
 "cells": [
  {
   "cell_type": "markdown",
   "metadata": {},
   "source": [
    "## One-Dimensional Array"
   ]
  },
  {
   "cell_type": "code",
   "execution_count": 3,
   "metadata": {},
   "outputs": [
    {
     "name": "stdout",
     "output_type": "stream",
     "text": [
      "['A' 'B' 'C']\n"
     ]
    }
   ],
   "source": [
    "import numpy as np\n",
    "x = np.array(['A','B','C'])\n",
    "print(x)"
   ]
  },
  {
   "cell_type": "markdown",
   "metadata": {},
   "source": [
    "## More than one dimensional array"
   ]
  },
  {
   "cell_type": "code",
   "execution_count": 4,
   "metadata": {},
   "outputs": [
    {
     "name": "stdout",
     "output_type": "stream",
     "text": [
      "[['A' 'B' 'C']\n",
      " ['D' 'E' 'F']]\n"
     ]
    }
   ],
   "source": [
    "x = np.array([['A','B','C'], ['D','E','F']])\n",
    "print(x)"
   ]
  },
  {
   "cell_type": "markdown",
   "metadata": {},
   "source": [
    "## \"shape\" Attribute"
   ]
  },
  {
   "cell_type": "code",
   "execution_count": 5,
   "metadata": {},
   "outputs": [
    {
     "name": "stdout",
     "output_type": "stream",
     "text": [
      "[['A' 'B' 'C']\n",
      " ['D' 'E' 'F']]\n",
      "(2, 3)\n"
     ]
    }
   ],
   "source": [
    "x = np.array([['A','B','C'], ['D','E','F']])\n",
    "print(x)\n",
    "print(x.shape)"
   ]
  },
  {
   "cell_type": "code",
   "execution_count": 45,
   "metadata": {},
   "outputs": [
    {
     "name": "stdout",
     "output_type": "stream",
     "text": [
      "[['A' 'B']\n",
      " ['C' 'D']\n",
      " ['E' 'F']]\n"
     ]
    }
   ],
   "source": [
    "x = np.array([['A','B','C'], ['D','E','F']])\n",
    "x.shape = (3, 2)\n",
    "print(x)"
   ]
  },
  {
   "cell_type": "markdown",
   "metadata": {},
   "source": [
    "## \"reshape\" Attribute"
   ]
  },
  {
   "cell_type": "code",
   "execution_count": 18,
   "metadata": {},
   "outputs": [
    {
     "name": "stdout",
     "output_type": "stream",
     "text": [
      "[ 0  1  2  3  4  5  6  7  8  9 10 11 12 13 14 15 16 17 18 19 20 21 22 23\n",
      " 24]\n",
      "[[ 0  1  2  3  4]\n",
      " [ 5  6  7  8  9]\n",
      " [10 11 12 13 14]\n",
      " [15 16 17 18 19]\n",
      " [20 21 22 23 24]]\n"
     ]
    }
   ],
   "source": [
    "import numpy as np\n",
    "x = np.arange(25)\n",
    "\n",
    "print(x)\n",
    "\n",
    "z = x.reshape(5,5)    # x.reshape(row, column, shape)\n",
    "print(z)"
   ]
  },
  {
   "cell_type": "code",
   "execution_count": 21,
   "metadata": {},
   "outputs": [
    {
     "name": "stdout",
     "output_type": "stream",
     "text": [
      "[[[0 1]\n",
      "  [2 3]]\n",
      "\n",
      " [[4 5]\n",
      "  [6 7]]]\n"
     ]
    }
   ],
   "source": [
    "import numpy as np\n",
    "y = np.arange(8)\n",
    "z1 = y.reshape(2,2,2)  # x.reshape(row, column, shape)\n",
    "print(z1)"
   ]
  },
  {
   "cell_type": "markdown",
   "metadata": {},
   "source": [
    "## \"itemsize\" Attribute"
   ]
  },
  {
   "cell_type": "code",
   "execution_count": 26,
   "metadata": {},
   "outputs": [
    {
     "name": "stdout",
     "output_type": "stream",
     "text": [
      "int8 =  1\n",
      "int =  4\n",
      "float =  8\n",
      "str =  4\n"
     ]
    }
   ],
   "source": [
    "# itemsize = \"size in byte\"\n",
    "\n",
    "x = np.array([1, 2, 3], dtype = np.int8)\n",
    "print('int8 = ',x.itemsize)\n",
    "\n",
    "x = np.array([1, 2, 3], dtype = np.int)\n",
    "print('int = ',x.itemsize)\n",
    "\n",
    "x = np.array([1, 2, 3], dtype = np.float)\n",
    "print('float = ',x.itemsize)\n",
    "\n",
    "x = np.array(['1', '2', '3'], dtype = np.str)\n",
    "print('str = ',x.itemsize)"
   ]
  },
  {
   "cell_type": "markdown",
   "metadata": {},
   "source": [
    "## \"asarray\" Attribute"
   ]
  },
  {
   "cell_type": "code",
   "execution_count": 30,
   "metadata": {},
   "outputs": [
    {
     "name": "stdout",
     "output_type": "stream",
     "text": [
      "[1, 2, 3]\n",
      "[1 2 3]\n",
      "[1. 2. 3.]\n"
     ]
    }
   ],
   "source": [
    "# Using List\n",
    "\n",
    "import numpy as np\n",
    "\n",
    "l = [1, 2, 3]\n",
    "print(l)\n",
    "x = np.asarray(l)\n",
    "print(x)\n",
    "y = np.asarray(l, dtype=float)\n",
    "print(y)"
   ]
  },
  {
   "cell_type": "code",
   "execution_count": 31,
   "metadata": {},
   "outputs": [
    {
     "name": "stdout",
     "output_type": "stream",
     "text": [
      "[1 2 3]\n"
     ]
    }
   ],
   "source": [
    "# Using Tuple\n",
    "\n",
    "l = (1, 2, 3)\n",
    "x = np.asarray(l)\n",
    "print(x)"
   ]
  },
  {
   "cell_type": "markdown",
   "metadata": {},
   "source": [
    "## \"arange\" Attribute"
   ]
  },
  {
   "cell_type": "code",
   "execution_count": 33,
   "metadata": {},
   "outputs": [
    {
     "name": "stdout",
     "output_type": "stream",
     "text": [
      "[10. 12. 14. 16. 18.]\n"
     ]
    }
   ],
   "source": [
    "x = np.arange(10, 20, 2, float)    # arange(start, end, skip, dtype)\n",
    "print(x)"
   ]
  },
  {
   "cell_type": "markdown",
   "metadata": {},
   "source": [
    "## \"linspace\" Attribute"
   ]
  },
  {
   "cell_type": "code",
   "execution_count": 38,
   "metadata": {},
   "outputs": [
    {
     "name": "stdout",
     "output_type": "stream",
     "text": [
      "(array([1.  , 1.25, 1.5 , 1.75, 2.  ]), 0.25)\n",
      "(array([1. , 1.2, 1.4, 1.6, 1.8]), 0.2)\n"
     ]
    }
   ],
   "source": [
    "# linspace(start, end, skip, endpoint, retstep, dtype)\n",
    "# suppose: end=20 and endpoint=20 : 20 will be included after 19\n",
    "\n",
    "x = np.linspace(1, 2, 5, retstep=True)\n",
    "print(x)\n",
    "\n",
    "y = np.linspace(1, 2, 5, retstep=True, endpoint=False)\n",
    "print(y)"
   ]
  },
  {
   "cell_type": "markdown",
   "metadata": {},
   "source": [
    "## \"logspace\" Attribute"
   ]
  },
  {
   "cell_type": "code",
   "execution_count": 43,
   "metadata": {},
   "outputs": [
    {
     "name": "stdout",
     "output_type": "stream",
     "text": [
      "[1.e+01 1.e+02 1.e+03 1.e+04 1.e+05 1.e+06 1.e+07 1.e+08 1.e+09 1.e+10]\n",
      "[   2.    4.    8.   16.   32.   64.  128.  256.  512. 1024.]\n"
     ]
    }
   ],
   "source": [
    "# numpy.logspace(start, end, skip, endpoint, base, dtype)\n",
    "\n",
    "x = np.logspace(1, 10, 10, base = 10)\n",
    "print(x)\n",
    "\n",
    "x = np.logspace(1, 10, 10, base = 2)\n",
    "print(x)"
   ]
  },
  {
   "cell_type": "markdown",
   "metadata": {},
   "source": [
    "## Indexing"
   ]
  },
  {
   "cell_type": "code",
   "execution_count": 47,
   "metadata": {},
   "outputs": [
    {
     "name": "stdout",
     "output_type": "stream",
     "text": [
      "[6 9 7 5 0 6]\n"
     ]
    }
   ],
   "source": [
    "x = np.random.randint(10, size=6)\n",
    "print(x)"
   ]
  },
  {
   "cell_type": "code",
   "execution_count": 48,
   "metadata": {},
   "outputs": [
    {
     "name": "stdout",
     "output_type": "stream",
     "text": [
      "[[5 9 2]\n",
      " [7 4 8]\n",
      " [9 8 2]\n",
      " [6 9 8]]\n"
     ]
    }
   ],
   "source": [
    "x1 = np.random.randint(10, size=(4,3))\n",
    "print(x1)"
   ]
  },
  {
   "cell_type": "code",
   "execution_count": 54,
   "metadata": {},
   "outputs": [
    {
     "name": "stdout",
     "output_type": "stream",
     "text": [
      "7\n"
     ]
    }
   ],
   "source": [
    "# One dimensional Array\n",
    "\n",
    "print(x[2])"
   ]
  },
  {
   "cell_type": "code",
   "execution_count": 53,
   "metadata": {},
   "outputs": [
    {
     "name": "stdout",
     "output_type": "stream",
     "text": [
      "2\n"
     ]
    }
   ],
   "source": [
    "# More than one-dimensional Array\n",
    "\n",
    "print(x1[2,2])"
   ]
  },
  {
   "cell_type": "markdown",
   "metadata": {},
   "source": [
    "## Slicing"
   ]
  },
  {
   "cell_type": "code",
   "execution_count": 56,
   "metadata": {},
   "outputs": [
    {
     "name": "stdout",
     "output_type": "stream",
     "text": [
      "[7 5 0 6]\n",
      "[6 9 7 5 0]\n"
     ]
    }
   ],
   "source": [
    "# One dimensional Array\n",
    "\n",
    "print(x[2:])\n",
    "print(x[:-1])"
   ]
  },
  {
   "cell_type": "code",
   "execution_count": 68,
   "metadata": {},
   "outputs": [
    {
     "name": "stdout",
     "output_type": "stream",
     "text": [
      "[[5 9 2]\n",
      " [7 4 8]]\n",
      "\n",
      "[[5 9]\n",
      " [7 4]]\n",
      "\n",
      "[[4 8]\n",
      " [8 2]\n",
      " [9 8]]\n",
      "\n",
      "[[4]\n",
      " [8]\n",
      " [9]]\n"
     ]
    }
   ],
   "source": [
    "# More than one dimensional Array\n",
    "\n",
    "print(x1[:2,:3])  # two rows & three columns\n",
    "print()\n",
    "print(x1[:2,:2])\n",
    "print()\n",
    "\n",
    "print(x1[1:,1:])\n",
    "print()\n",
    "print(x1[1:,1:2])"
   ]
  },
  {
   "cell_type": "markdown",
   "metadata": {},
   "source": [
    "## Aggregate Calculation"
   ]
  },
  {
   "cell_type": "code",
   "execution_count": 73,
   "metadata": {},
   "outputs": [
    {
     "name": "stdout",
     "output_type": "stream",
     "text": [
      "[6 9 7 5 0 6]\n",
      "sum =  33\n",
      "min =  0\n",
      "max =  9\n",
      "average =  5.5\n"
     ]
    }
   ],
   "source": [
    "# sum, max, min, average, variance\n",
    "\n",
    "print(x)\n",
    "\n",
    "y = np.sum(x)\n",
    "print('sum = ',y)\n",
    "\n",
    "y = np.min(x)\n",
    "print('min = ',y)\n",
    "\n",
    "y = np.max(x)\n",
    "print('max = ',y)\n",
    "\n",
    "y = np.mean(x)\n",
    "print('average = ',y)"
   ]
  },
  {
   "cell_type": "markdown",
   "metadata": {},
   "source": [
    "## Sorting"
   ]
  },
  {
   "cell_type": "code",
   "execution_count": 77,
   "metadata": {},
   "outputs": [
    {
     "name": "stdout",
     "output_type": "stream",
     "text": [
      "[6 9 7 5 0 6]\n",
      "[0 5 6 6 7 9]\n",
      "[4 3 0 5 2 1]\n"
     ]
    }
   ],
   "source": [
    "print(x)\n",
    "\n",
    "srt = np.sort(x)\n",
    "print(srt)\n",
    "srt1 = np.argsort(x) # index of sorting elements in non-sorting dtype\n",
    "print(srt1)"
   ]
  },
  {
   "cell_type": "code",
   "execution_count": 80,
   "metadata": {},
   "outputs": [
    {
     "name": "stdout",
     "output_type": "stream",
     "text": [
      "[[5 9 2]\n",
      " [7 4 8]\n",
      " [9 8 2]\n",
      " [6 9 8]]\n",
      "\n",
      "[[5 4 2]\n",
      " [6 8 2]\n",
      " [7 9 8]\n",
      " [9 9 8]]\n"
     ]
    }
   ],
   "source": [
    "# Sorting along rows\n",
    "\n",
    "print(x1)\n",
    "print()\n",
    "print(np.sort(x1, axis = 0))"
   ]
  },
  {
   "cell_type": "code",
   "execution_count": 81,
   "metadata": {},
   "outputs": [
    {
     "name": "stdout",
     "output_type": "stream",
     "text": [
      "[[5 9 2]\n",
      " [7 4 8]\n",
      " [9 8 2]\n",
      " [6 9 8]]\n",
      "\n",
      "[[2 5 9]\n",
      " [4 7 8]\n",
      " [2 8 9]\n",
      " [6 8 9]]\n"
     ]
    }
   ],
   "source": [
    "# Sorting along column\n",
    "\n",
    "print(x1)\n",
    "print()\n",
    "print(np.sort(x1, axis = 1))"
   ]
  },
  {
   "cell_type": "markdown",
   "metadata": {},
   "source": [
    "## Partitioning"
   ]
  },
  {
   "cell_type": "code",
   "execution_count": 89,
   "metadata": {},
   "outputs": [
    {
     "name": "stdout",
     "output_type": "stream",
     "text": [
      "[6 9 7 5 0 6]\n",
      "[0 5 6 9 7 6]\n"
     ]
    }
   ],
   "source": [
    "print(x)\n",
    "\n",
    "print(np.partition(x,2)) # only sort 2 values"
   ]
  }
 ],
 "metadata": {
  "kernelspec": {
   "display_name": "Python 3",
   "language": "python",
   "name": "python3"
  },
  "language_info": {
   "codemirror_mode": {
    "name": "ipython",
    "version": 3
   },
   "file_extension": ".py",
   "mimetype": "text/x-python",
   "name": "python",
   "nbconvert_exporter": "python",
   "pygments_lexer": "ipython3",
   "version": "3.7.3"
  }
 },
 "nbformat": 4,
 "nbformat_minor": 2
}
